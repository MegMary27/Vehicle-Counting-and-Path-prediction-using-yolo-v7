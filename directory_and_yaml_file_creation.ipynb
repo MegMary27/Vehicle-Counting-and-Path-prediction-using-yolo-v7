{
  "nbformat": 4,
  "nbformat_minor": 0,
  "metadata": {
    "colab": {
      "provenance": [],
      "authorship_tag": "ABX9TyPntH+F6PCpLM70rxVKpAXB",
      "include_colab_link": true
    },
    "kernelspec": {
      "name": "python3",
      "display_name": "Python 3"
    },
    "language_info": {
      "name": "python"
    }
  },
  "cells": [
    {
      "cell_type": "markdown",
      "metadata": {
        "id": "view-in-github",
        "colab_type": "text"
      },
      "source": [
        "<a href=\"https://colab.research.google.com/github/MegMary27/Vehicle-Counting-and-Path-prediction-using-yolo-v9/blob/main/directory_and_yaml_file_creation.ipynb\" target=\"_parent\"><img src=\"https://colab.research.google.com/assets/colab-badge.svg\" alt=\"Open In Colab\"/></a>"
      ]
    },
    {
      "cell_type": "markdown",
      "source": [
        "# creating directory structure"
      ],
      "metadata": {
        "id": "5kUNHLR37TH2"
      }
    },
    {
      "cell_type": "code",
      "execution_count": 3,
      "metadata": {
        "id": "hpazbD9R6ySb"
      },
      "outputs": [],
      "source": [
        "!mkdir -p /content/custom_dataset/train/images\n",
        "!mkdir -p /content/custom_dataset/train/labels\n",
        "!mkdir -p /content/custom_dataset/val/images\n",
        "!mkdir -p /content/custom_dataset/val/labels\n"
      ]
    },
    {
      "cell_type": "markdown",
      "source": [
        "# creating data.yaml file"
      ],
      "metadata": {
        "id": "byg-hRu87YbN"
      }
    },
    {
      "cell_type": "code",
      "source": [
        "!pip install pyyaml\n"
      ],
      "metadata": {
        "colab": {
          "base_uri": "https://localhost:8080/"
        },
        "id": "oCGBoNAB7R2B",
        "outputId": "d5197b63-6537-45a9-ea24-3b3954683985"
      },
      "execution_count": 2,
      "outputs": [
        {
          "output_type": "stream",
          "name": "stdout",
          "text": [
            "Requirement already satisfied: pyyaml in /usr/local/lib/python3.10/dist-packages (6.0.1)\n"
          ]
        }
      ]
    },
    {
      "cell_type": "code",
      "source": [
        "import yaml\n",
        "\n",
        "# Define the paths and class information\n",
        "data = {\n",
        "    'train': '/content/custom_dataset/train/images',\n",
        "    'val': '/content/custom_dataset/val/images',\n",
        "    'test': '/content/custom_dataset/test/images',  # if you have a test set\n",
        "    'nc': 10,  # number of classes\n",
        "    'names': ['Bicycle', 'Bus','Car','LCV','Person','Three Wheeler','Truck','TwoWheeler']  # list of class names\n",
        "}\n",
        "\n",
        "# Specify the path where you want to save the data.yaml file\n",
        "data_yaml_path = '/content/custom_dataset/data.yaml'\n",
        "\n",
        "# Write the data to the yaml file\n",
        "with open(data_yaml_path, 'w') as outfile:\n",
        "    yaml.dump(data, outfile, default_flow_style=False)\n",
        "\n",
        "print(f'data.yaml file created at {data_yaml_path}')\n"
      ],
      "metadata": {
        "colab": {
          "base_uri": "https://localhost:8080/"
        },
        "id": "ydHPmF4h7SYz",
        "outputId": "0bd8e007-b39a-4d9f-dc31-ff310fa31244"
      },
      "execution_count": 4,
      "outputs": [
        {
          "output_type": "stream",
          "name": "stdout",
          "text": [
            "data.yaml file created at /content/custom_dataset/data.yaml\n"
          ]
        }
      ]
    }
  ]
}